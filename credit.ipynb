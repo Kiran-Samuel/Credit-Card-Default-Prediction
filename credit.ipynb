{
 "cells": [
  {
   "cell_type": "code",
   "execution_count": 11,
   "id": "f258e25b",
   "metadata": {},
   "outputs": [],
   "source": [
    "from fastapi import FastAPI"
   ]
  },
  {
   "cell_type": "code",
   "execution_count": 13,
   "id": "d2a7d062",
   "metadata": {},
   "outputs": [],
   "source": [
    "from pydantic import BaseModel"
   ]
  },
  {
   "cell_type": "code",
   "execution_count": 14,
   "id": "047c4113",
   "metadata": {},
   "outputs": [],
   "source": [
    "class credits(BaseModel):\n",
    "    limit_bal: float\n",
    "    sex: int\n",
    "    education: int\n",
    "    marriage : int\n",
    "    age : int\n",
    "    pay_1 : int\n",
    "    pay_2 : int\n",
    "    pay_3 : int\n",
    "    pay_4 : int\n",
    "    pay_5 : int\n",
    "    pay_6 : int\n",
    "    total_bill_amount : float\n",
    "    total_pay_amount : float"
   ]
  },
  {
   "cell_type": "code",
   "execution_count": null,
   "id": "5ef194c5",
   "metadata": {},
   "outputs": [],
   "source": []
  }
 ],
 "metadata": {
  "kernelspec": {
   "display_name": "Python 3",
   "language": "python",
   "name": "python3"
  },
  "language_info": {
   "codemirror_mode": {
    "name": "ipython",
    "version": 3
   },
   "file_extension": ".py",
   "mimetype": "text/x-python",
   "name": "python",
   "nbconvert_exporter": "python",
   "pygments_lexer": "ipython3",
   "version": "3.7.13"
  }
 },
 "nbformat": 4,
 "nbformat_minor": 5
}
