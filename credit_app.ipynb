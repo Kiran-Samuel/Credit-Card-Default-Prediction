{
 "cells": [
  {
   "cell_type": "code",
   "execution_count": null,
   "id": "f78dd87d",
   "metadata": {},
   "outputs": [],
   "source": [
    "#!pip install fastapi uvicorn"
   ]
  },
  {
   "cell_type": "code",
   "execution_count": null,
   "id": "b760aeda",
   "metadata": {},
   "outputs": [],
   "source": [
    "import uvicorn\n",
    "from fastapi import FastAPI\n",
    "import numpy as np\n",
    "import pandas as pd\n",
    "import pickle\n",
    "from pydantic import BaseModel"
   ]
  },
  {
   "cell_type": "code",
   "execution_count": null,
   "id": "f672843e",
   "metadata": {},
   "outputs": [],
   "source": [
    "description = \"\"\"\n",
    "Credit Card Default prediction API helps you to determine who will default in their credit card payments.\n",
    "\n",
    "# Items\n",
    "\n",
    "You can **predict** credit card defaulters\n",
    "\n",
    "# Users\n",
    "\n",
    "Just enter the fields below in the predict tab to make predictions\n",
    "\n",
    "All values are to be input as integers\n",
    "\n",
    "**LIMIT_BAL**: Amount of given credit in NT dollars\n",
    "\n",
    "**SEX**: Gender (1 = Male, 2 = Female)\n",
    "\n",
    "**EDUCATION**: (1 = Graduate School, 2 = University, 3 = High school, 4 = Others)\n",
    "\n",
    "**MARRIAGE**: Marital status (1 = Married, 2 = Single, 3 = Others)\n",
    "\n",
    "**PAY_1**: Repayment status in September (-1= pay duly, 1= Payment delay for one month, 2= Payment delay for two months,\n",
    "                                       3= Payment delay for three months, 4= Payment delay for four months, \n",
    "                                     … 8= Payment delay for eight months, 9= Payment delay for nine months and above)\n",
    "\n",
    "**PAY_2**: Repayment status in August (same scale as above)\n",
    "\n",
    "**PAY_3**: Repayment status in July (same scale as above)\n",
    "\n",
    "**PAY_4**: Repayment status in June (same scale as above)\n",
    "\n",
    "**PAY_5**: Repayment status in May (same scale as above)\n",
    "\n",
    "**PAY_6**: Repayment status in April (same scale as above)\n",
    "\n",
    "**Total bill amount** : Total amount on bill for 6 months\n",
    "\n",
    "**Total paid amount** : Total amount paid in 6 months\n",
    "\n",
    "\n",
    "\"\"\""
   ]
  },
  {
   "cell_type": "code",
   "execution_count": null,
   "id": "b0861c86",
   "metadata": {},
   "outputs": [],
   "source": [
    "# Initializing the app object\n",
    "app = FastAPI(title= \"Credit Card Defaulter Predictor\",\n",
    "              description= description)"
   ]
  },
  {
   "cell_type": "code",
   "execution_count": null,
   "id": "ea2fd809",
   "metadata": {},
   "outputs": [],
   "source": [
    "# Opening and loading pickled files\n",
    "pickle_in = open('svc_model.pkl',\"rb\")\n",
    "classifier = pickle.load(pickle_in)\n",
    "scalar=pickle.load(open('scaling.pkl','rb'))"
   ]
  },
  {
   "cell_type": "code",
   "execution_count": null,
   "id": "dbdbce80",
   "metadata": {},
   "outputs": [],
   "source": [
    "@app.get('/')\n",
    "def index():\n",
    "    return {'Message': 'Welcome to credit card defaulter prediction. Type \"/docs\" at the end of the above url'}"
   ]
  },
  {
   "cell_type": "code",
   "execution_count": null,
   "id": "e98b0c8b",
   "metadata": {},
   "outputs": [],
   "source": [
    "@app.get('/{name}')\n",
    "def get_name(name: str):\n",
    "    return {'Hello, Please input your name here': f'{name}'}"
   ]
  },
  {
   "cell_type": "code",
   "execution_count": null,
   "id": "087e66ae",
   "metadata": {},
   "outputs": [],
   "source": [
    "class credits(BaseModel):\n",
    "    limit_bal: float\n",
    "    sex: int\n",
    "    education: int\n",
    "    marriage : int\n",
    "    age : int\n",
    "    pay_1 : int\n",
    "    pay_2 : int\n",
    "    pay_3 : int\n",
    "    pay_4 : int\n",
    "    pay_5 : int\n",
    "    pay_6 : int\n",
    "    total_bill_amount : float\n",
    "    total_paid_amount : float"
   ]
  },
  {
   "cell_type": "code",
   "execution_count": null,
   "id": "30d2ad53",
   "metadata": {},
   "outputs": [],
   "source": [
    "@app.post('/predict')\n",
    "def predict_defaulter(data: credits):\n",
    "    data = data.dict()\n",
    "    limit_bal = data['limit_bal']\n",
    "    sex = data['sex']\n",
    "    education = data['education']\n",
    "    marriage = data['marriage']\n",
    "    age = data['age']\n",
    "    pay_1 = data['pay_1']\n",
    "    pay_2 = data['pay_2']\n",
    "    pay_3 = data['pay_3']\n",
    "    pay_4 = data['pay_4']\n",
    "    pay_5 = data['pay_5']\n",
    "    pay_6 = data['pay_6']\n",
    "    total_bill_amount = data['total_bill_amount']\n",
    "    total_paid_amount = data['total_paid_amount']\n",
    "    prediction = classifier.predict([[limit_bal, sex, education, marriage, age,\n",
    "                                      pay_1, pay_2, pay_3, pay_4, pay_5, pay_6,\n",
    "                                      total_bill_amount, total_paid_amount]])\n",
    "    print(np.array(list(data.values())).reshape(1,-1))\n",
    "    scaled_data=scalar.transform(np.array(list(data.values())).reshape(1,-1))\n",
    "    prediction = classifier.predict(scaled_data)\n",
    "    if (prediction[0] == 1):\n",
    "        prediction = \"Defaulter\"\n",
    "    else:\n",
    "        prediction = \"Not defaulter\"\n",
    "    return {\n",
    "        'prediction': prediction\n",
    "    }\n",
    "    "
   ]
  },
  {
   "cell_type": "code",
   "execution_count": null,
   "id": "af0ac217",
   "metadata": {},
   "outputs": [],
   "source": [
    "import nest_asyncio\n",
    "nest_asyncio.apply()"
   ]
  },
  {
   "cell_type": "code",
   "execution_count": null,
   "id": "5a1f4bd6",
   "metadata": {},
   "outputs": [],
   "source": [
    "if __name__ == '__main__':\n",
    "    uvicorn.run(app, host = '127.0.0.1', port = 8000)"
   ]
  },
  {
   "cell_type": "code",
   "execution_count": null,
   "id": "21c56219",
   "metadata": {},
   "outputs": [],
   "source": []
  }
 ],
 "metadata": {
  "kernelspec": {
   "display_name": "Python 3",
   "language": "python",
   "name": "python3"
  },
  "language_info": {
   "codemirror_mode": {
    "name": "ipython",
    "version": 3
   },
   "file_extension": ".py",
   "mimetype": "text/x-python",
   "name": "python",
   "nbconvert_exporter": "python",
   "pygments_lexer": "ipython3",
   "version": "3.7.13"
  }
 },
 "nbformat": 4,
 "nbformat_minor": 5
}
