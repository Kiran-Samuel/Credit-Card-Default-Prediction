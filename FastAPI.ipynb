{
 "cells": [
  {
   "cell_type": "code",
   "execution_count": null,
   "id": "6b2c1fc3",
   "metadata": {},
   "outputs": [],
   "source": [
    "#!pip install fastapi uvicorn"
   ]
  },
  {
   "cell_type": "code",
   "execution_count": 1,
   "id": "c00d48b6",
   "metadata": {},
   "outputs": [],
   "source": [
    "import uvicorn\n",
    "from fastapi import FastAPI\n",
    "import numpy as np\n",
    "import pandas as pd\n",
    "import pickle\n",
    "from pydantic import BaseModel"
   ]
  },
  {
   "cell_type": "code",
   "execution_count": 2,
   "id": "00757fe9",
   "metadata": {},
   "outputs": [],
   "source": [
    "description = \"\"\"\n",
    "Credit Card Default prediction API helps you to determine who will default in their credit card payments.\n",
    "\n",
    "# Items\n",
    "\n",
    "You can **predict** credit card defaulters\n",
    "\n",
    "# Users\n",
    "\n",
    "Just enter the fields below in the predict tab to make predictions\n",
    "\n",
    "All values are to be input as integers\n",
    "\n",
    "**LIMIT_BAL**: Amount of given credit in NT dollars\n",
    "\n",
    "**SEX**: Gender (1 = Male, 2 = Female)\n",
    "\n",
    "**EDUCATION**: (1 = Graduate School, 2 = University, 3 = High school, 4 = Others)\n",
    "\n",
    "**MARRIAGE**: Marital status (1 = Married, 2 = Single, 3 = Others)\n",
    "\n",
    "**PAY_1**: Repayment status in September (-1= pay duly, 1= Payment delay for one month, 2= Payment delay for two months,\n",
    "                                       3= Payment delay for three months, 4= Payment delay for four months, \n",
    "                                     … 8= Payment delay for eight months, 9= Payment delay for nine months and above)\n",
    "\n",
    "**PAY_2**: Repayment status in August (same scale as above)\n",
    "\n",
    "**PAY_3**: Repayment status in July (same scale as above)\n",
    "\n",
    "**PAY_4**: Repayment status in June (same scale as above)\n",
    "\n",
    "**PAY_5**: Repayment status in May (same scale as above)\n",
    "\n",
    "**PAY_6**: Repayment status in April (same scale as above)\n",
    "\n",
    "**Total bill amount** : Total amount on bill for 6 months\n",
    "\n",
    "**Total paid amount** : Total amount paid in 6 months\n",
    "\n",
    "\n",
    "\"\"\""
   ]
  },
  {
   "cell_type": "code",
   "execution_count": 3,
   "id": "7f28a93c",
   "metadata": {},
   "outputs": [],
   "source": [
    "# Initializing the app object\n",
    "app = FastAPI(title= \"Credit Card Defaulter Predictor\",\n",
    "              description= description)"
   ]
  },
  {
   "cell_type": "code",
   "execution_count": 5,
   "id": "1696ea17",
   "metadata": {},
   "outputs": [],
   "source": [
    "# Opening and loading pickled files\n",
    "pickle_in = open('svc_model.pkl',\"rb\")\n",
    "classifier = pickle.load(pickle_in)\n",
    "scalar=pickle.load(open('scaling.pkl','rb'))"
   ]
  },
  {
   "cell_type": "code",
   "execution_count": 6,
   "id": "35024c0e",
   "metadata": {},
   "outputs": [],
   "source": [
    "@app.get('/')\n",
    "def index():\n",
    "    return {'Message': 'Welcome to credit card defaulter prediction'}"
   ]
  },
  {
   "cell_type": "code",
   "execution_count": 7,
   "id": "6b997920",
   "metadata": {},
   "outputs": [],
   "source": [
    "@app.get('/{name}')\n",
    "def get_name(name: str):\n",
    "    return {'Hello, Please input your name here': f'{name}'}"
   ]
  },
  {
   "cell_type": "code",
   "execution_count": 8,
   "id": "0407085a",
   "metadata": {},
   "outputs": [],
   "source": [
    "class credits(BaseModel):\n",
    "    limit_bal: float\n",
    "    sex: int\n",
    "    education: int\n",
    "    marriage : int\n",
    "    age : int\n",
    "    pay_1 : int\n",
    "    pay_2 : int\n",
    "    pay_3 : int\n",
    "    pay_4 : int\n",
    "    pay_5 : int\n",
    "    pay_6 : int\n",
    "    total_bill_amount : float\n",
    "    total_paid_amount : float"
   ]
  },
  {
   "cell_type": "code",
   "execution_count": 9,
   "id": "340becd5",
   "metadata": {},
   "outputs": [],
   "source": [
    "@app.post('/predict')\n",
    "def predict_defaulter(data: credits):\n",
    "    data = data.dict()\n",
    "    limit_bal = data['limit_bal']\n",
    "    sex = data['sex']\n",
    "    education = data['education']\n",
    "    marriage = data['marriage']\n",
    "    age = data['age']\n",
    "    pay_1 = data['pay_1']\n",
    "    pay_2 = data['pay_2']\n",
    "    pay_3 = data['pay_3']\n",
    "    pay_4 = data['pay_4']\n",
    "    pay_5 = data['pay_5']\n",
    "    pay_6 = data['pay_6']\n",
    "    total_bill_amount = data['total_bill_amount']\n",
    "    total_paid_amount = data['total_paid_amount']\n",
    "    prediction = classifier.predict([[limit_bal, sex, education, marriage, age,\n",
    "                                      pay_1, pay_2, pay_3, pay_4, pay_5, pay_6,\n",
    "                                      total_bill_amount, total_paid_amount]])\n",
    "    print(np.array(list(data.values())).reshape(1,-1))\n",
    "    scaled_data=scalar.transform(np.array(list(data.values())).reshape(1,-1))\n",
    "    prediction = classifier.predict(scaled_data)\n",
    "    if (prediction[0] == 1):\n",
    "        prediction = \"Defaulter\"\n",
    "    else:\n",
    "        prediction = \"Not defaulter\"\n",
    "    return {\n",
    "        'prediction': prediction\n",
    "    }\n",
    "    "
   ]
  },
  {
   "cell_type": "code",
   "execution_count": 10,
   "id": "19528ec6",
   "metadata": {},
   "outputs": [],
   "source": [
    "import nest_asyncio\n",
    "nest_asyncio.apply()"
   ]
  },
  {
   "cell_type": "code",
   "execution_count": 11,
   "id": "b2eb00a4",
   "metadata": {},
   "outputs": [
    {
     "name": "stderr",
     "output_type": "stream",
     "text": [
      "INFO:     Started server process [3128]\n",
      "INFO:     Waiting for application startup.\n",
      "INFO:     Application startup complete.\n",
      "INFO:     Uvicorn running on http://127.0.0.1:8000 (Press CTRL+C to quit)\n"
     ]
    },
    {
     "name": "stdout",
     "output_type": "stream",
     "text": [
      "INFO:     127.0.0.1:51348 - \"GET / HTTP/1.1\" 200 OK\n",
      "INFO:     127.0.0.1:51348 - \"GET /favicon.ico HTTP/1.1\" 200 OK\n",
      "INFO:     127.0.0.1:51348 - \"GET /docs HTTP/1.1\" 200 OK\n",
      "INFO:     127.0.0.1:51348 - \"GET /openapi.json HTTP/1.1\" 200 OK\n",
      "[[ 2.000e+04  2.000e+00  2.000e+00  1.000e+00  2.400e+01  2.000e+00\n",
      "   2.000e+00 -1.000e+00 -1.000e+00 -2.000e+00 -2.000e+00  7.704e+03\n",
      "   6.890e+02]]\n",
      "INFO:     127.0.0.1:51421 - \"POST /predict HTTP/1.1\" 200 OK\n",
      "[[9.00000e+04 2.00000e+00 2.00000e+00 2.00000e+00 3.40000e+01 0.00000e+00\n",
      "  0.00000e+00 0.00000e+00 0.00000e+00 0.00000e+00 0.00000e+00 1.01653e+05\n",
      "  1.10180e+04]]\n",
      "INFO:     127.0.0.1:51442 - \"POST /predict HTTP/1.1\" 200 OK\n",
      "[[5.00000e+04 2.00000e+00 2.00000e+00 1.00000e+00 3.70000e+01 0.00000e+00\n",
      "  0.00000e+00 0.00000e+00 0.00000e+00 0.00000e+00 0.00000e+00 2.31334e+05\n",
      "  8.38800e+03]]\n",
      "INFO:     127.0.0.1:51569 - \"POST /predict HTTP/1.1\" 200 OK\n",
      "[[ 1.2000e+05  2.0000e+00  2.0000e+00  2.0000e+00  2.6000e+01 -1.0000e+00\n",
      "   2.0000e+00  0.0000e+00  0.0000e+00  0.0000e+00  2.0000e+00  1.7077e+04\n",
      "   5.0000e+03]]\n",
      "INFO:     127.0.0.1:51574 - \"POST /predict HTTP/1.1\" 200 OK\n"
     ]
    },
    {
     "name": "stderr",
     "output_type": "stream",
     "text": [
      "INFO:     Shutting down\n",
      "INFO:     Waiting for application shutdown.\n",
      "INFO:     Application shutdown complete.\n",
      "INFO:     Finished server process [3128]\n"
     ]
    }
   ],
   "source": [
    "if __name__ == '__main__':\n",
    "    uvicorn.run(app, host = '127.0.0.1', port = 8000)"
   ]
  },
  {
   "cell_type": "code",
   "execution_count": null,
   "id": "80cd4a7d",
   "metadata": {},
   "outputs": [],
   "source": []
  }
 ],
 "metadata": {
  "kernelspec": {
   "display_name": "Python 3",
   "language": "python",
   "name": "python3"
  },
  "language_info": {
   "codemirror_mode": {
    "name": "ipython",
    "version": 3
   },
   "file_extension": ".py",
   "mimetype": "text/x-python",
   "name": "python",
   "nbconvert_exporter": "python",
   "pygments_lexer": "ipython3",
   "version": "3.7.13"
  }
 },
 "nbformat": 4,
 "nbformat_minor": 5
}
