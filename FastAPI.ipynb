{
 "cells": [
  {
   "cell_type": "code",
   "execution_count": 1,
   "id": "eeb239bf",
   "metadata": {},
   "outputs": [],
   "source": [
    "#!pip install fastapi uvicorn"
   ]
  },
  {
   "cell_type": "code",
   "execution_count": 2,
   "id": "3de0610e",
   "metadata": {},
   "outputs": [],
   "source": [
    "#!pip install import-ipynb\n",
    "import import_ipynb"
   ]
  },
  {
   "cell_type": "code",
   "execution_count": 3,
   "id": "c927b4c9",
   "metadata": {},
   "outputs": [
    {
     "name": "stdout",
     "output_type": "stream",
     "text": [
      "importing Jupyter notebook from credit.ipynb\n"
     ]
    }
   ],
   "source": [
    "import uvicorn\n",
    "from fastapi import FastAPI\n",
    "from credit import credits\n",
    "import numpy as np\n",
    "import pandas as pd\n",
    "import pickle"
   ]
  },
  {
   "cell_type": "code",
   "execution_count": 4,
   "id": "af7a4b14",
   "metadata": {},
   "outputs": [],
   "source": [
    "app = FastAPI()"
   ]
  },
  {
   "cell_type": "code",
   "execution_count": 5,
   "id": "40d469c0",
   "metadata": {},
   "outputs": [],
   "source": [
    "pickle_in = open('rf_model.pkl',\"rb\")\n",
    "classifier = pickle.load(pickle_in)"
   ]
  },
  {
   "cell_type": "code",
   "execution_count": 6,
   "id": "63444487",
   "metadata": {},
   "outputs": [],
   "source": [
    "@app.get('/')\n",
    "def index():\n",
    "    return {'Message': 'Welcome to credit card defaulter prediction'}"
   ]
  },
  {
   "cell_type": "code",
   "execution_count": 7,
   "id": "776eade4",
   "metadata": {},
   "outputs": [],
   "source": [
    "@app.get('/{name}')\n",
    "def get_name(name: str):\n",
    "    return {'Hello, Please input your name here': f'{name}'}"
   ]
  },
  {
   "cell_type": "code",
   "execution_count": 8,
   "id": "ce674001",
   "metadata": {},
   "outputs": [],
   "source": [
    "@app.post('/predict')\n",
    "def predict_defaulter(data:credits):\n",
    "    data = data.dict()\n",
    "    limit_bal = data['limit_bal']\n",
    "    sex = data['sex']\n",
    "    education = data['education']\n",
    "    marriage = data['marriage']\n",
    "    age = data['age']\n",
    "    pay_1 = data['pay_1']\n",
    "    pay_2 = data['pay_2']\n",
    "    pay_3 = data['pay_3']\n",
    "    pay_4 = data['pay_4']\n",
    "    pay_5 = data['pay_5']\n",
    "    pay_6 = data['pay_6']\n",
    "    total_bill_amount = data['total_bill_amount']\n",
    "    total_pay_amount = data['total_pay_amount']\n",
    "    \n",
    "    prediction = classifier.predict([[limit_bal, sex, education, marriage, age,\n",
    "                                      pay_1, pay_2, pay_3, pay_4, pay_5, pay_6,\n",
    "                                      total_bill_amount, total_pay_amount]])\n",
    "    if (prediction[0] == 1):\n",
    "        prediction = \"Defaulter\"\n",
    "    else:\n",
    "        prediction = \"Not defaulter\"\n",
    "    return {\n",
    "        'prediction': prediction\n",
    "    }\n",
    "    "
   ]
  },
  {
   "cell_type": "code",
   "execution_count": 9,
   "id": "0d02ca59",
   "metadata": {},
   "outputs": [],
   "source": [
    "import nest_asyncio\n",
    "nest_asyncio.apply()"
   ]
  },
  {
   "cell_type": "code",
   "execution_count": 10,
   "id": "a471c65c",
   "metadata": {},
   "outputs": [
    {
     "name": "stderr",
     "output_type": "stream",
     "text": [
      "INFO:     Started server process [3120]\n",
      "INFO:     Waiting for application startup.\n",
      "INFO:     Application startup complete.\n",
      "INFO:     Uvicorn running on http://127.0.0.1:8000 (Press CTRL+C to quit)\n"
     ]
    },
    {
     "name": "stdout",
     "output_type": "stream",
     "text": [
      "INFO:     127.0.0.1:52278 - \"GET / HTTP/1.1\" 200 OK\n",
      "INFO:     127.0.0.1:52278 - \"GET /favicon.ico HTTP/1.1\" 200 OK\n",
      "INFO:     127.0.0.1:52279 - \"GET /favicon.ico HTTP/1.1\" 200 OK\n",
      "INFO:     127.0.0.1:52292 - \"GET / HTTP/1.1\" 200 OK\n",
      "INFO:     127.0.0.1:52292 - \"GET /favicon.ico HTTP/1.1\" 200 OK\n",
      "INFO:     127.0.0.1:52293 - \"GET /docs HTTP/1.1\" 200 OK\n",
      "INFO:     127.0.0.1:52293 - \"GET /openapi.json HTTP/1.1\" 200 OK\n",
      "INFO:     127.0.0.1:52296 - \"GET /Kiran HTTP/1.1\" 200 OK\n",
      "INFO:     127.0.0.1:52304 - \"POST /predict HTTP/1.1\" 200 OK\n",
      "INFO:     127.0.0.1:52318 - \"POST /predict HTTP/1.1\" 200 OK\n",
      "INFO:     127.0.0.1:52329 - \"GET / HTTP/1.1\" 200 OK\n",
      "INFO:     127.0.0.1:52329 - \"GET /favicon.ico HTTP/1.1\" 200 OK\n",
      "INFO:     127.0.0.1:52328 - \"GET /docs HTTP/1.1\" 200 OK\n",
      "INFO:     127.0.0.1:52328 - \"GET /favicon.ico HTTP/1.1\" 200 OK\n",
      "INFO:     127.0.0.1:52328 - \"GET /openapi.json HTTP/1.1\" 200 OK\n",
      "INFO:     127.0.0.1:52330 - \"GET /Kiran HTTP/1.1\" 200 OK\n",
      "INFO:     127.0.0.1:52334 - \"POST /predict HTTP/1.1\" 200 OK\n",
      "INFO:     127.0.0.1:52341 - \"POST /predict HTTP/1.1\" 200 OK\n"
     ]
    },
    {
     "name": "stderr",
     "output_type": "stream",
     "text": [
      "INFO:     Shutting down\n",
      "INFO:     Waiting for application shutdown.\n",
      "INFO:     Application shutdown complete.\n",
      "INFO:     Finished server process [3120]\n"
     ]
    }
   ],
   "source": [
    "if __name__ == '__main__':\n",
    "    uvicorn.run(app, host = '127.0.0.1', port = 8000)"
   ]
  },
  {
   "cell_type": "code",
   "execution_count": null,
   "id": "f8f1de2c",
   "metadata": {},
   "outputs": [],
   "source": []
  }
 ],
 "metadata": {
  "kernelspec": {
   "display_name": "Python 3",
   "language": "python",
   "name": "python3"
  },
  "language_info": {
   "codemirror_mode": {
    "name": "ipython",
    "version": 3
   },
   "file_extension": ".py",
   "mimetype": "text/x-python",
   "name": "python",
   "nbconvert_exporter": "python",
   "pygments_lexer": "ipython3",
   "version": "3.7.13"
  }
 },
 "nbformat": 4,
 "nbformat_minor": 5
}
